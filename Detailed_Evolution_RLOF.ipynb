{
 "cells": [
  {
   "cell_type": "code",
   "execution_count": 33,
   "id": "90e345dd-6d4e-42d0-bdec-ecc03eec3cc9",
   "metadata": {},
   "outputs": [],
   "source": [
    "import os, sys    # for handling paths\n",
    "import h5py as h5  #for handling data format\n",
    "import numpy as np\n",
    "import pandas as pd\n",
    "\n",
    "import matplotlib.pyplot as plt\n",
    "\n",
    "from IPython.display import Image"
   ]
  },
  {
   "cell_type": "code",
   "execution_count": 34,
   "id": "17bb70cb-b23a-42f8-a920-82c9cd94c401",
   "metadata": {
    "jupyter": {
     "source_hidden": true
    }
   },
   "outputs": [],
   "source": [
    "def printCompasDetails(data, *seeds, mask=()):\n",
    "    \"\"\"\n",
    "    Function to print the full Compas output for given seeds, optionally with an additional mask\n",
    "    \"\"\"\n",
    "    list_of_keys = list(data.keys())\n",
    "\n",
    "    # Check if seed parameter exists - if not, just print without (e.g RunDetails)\n",
    "    if ('SEED' in list_of_keys) | ('SEED>MT' in list_of_keys): # Most output files \n",
    "        #SEED>MT is a relic from older versions, but we leave this in for backwards compatibility\n",
    "\n",
    "        # Set the seed name parameter, mask on seeds as needed, and set the index\n",
    "        seedVariableName='SEED' if ('SEED' in list_of_keys) else 'SEED>MT'\n",
    "        list_of_keys.remove(seedVariableName) # this is the index above, don't want to include it\n",
    "    \n",
    "        allSeeds = data[seedVariableName][()]\n",
    "        seedsMask = np.in1d(allSeeds, seeds)\n",
    "        if len(seeds) == 0: # if any seed is included, do not reset the mask\n",
    "            seedsMask = np.ones_like(allSeeds).astype(bool)\n",
    "        if mask == ():\n",
    "            mask = np.ones_like(allSeeds).astype(bool)\n",
    "        mask &= seedsMask\n",
    "\n",
    "        df = pd.DataFrame.from_dict({param: data[param][()][mask] for param in list(data.keys())}).set_index(seedVariableName).T\n",
    "\n",
    "    else: # No seed parameter, so do custom print for Run Details\n",
    "\n",
    "        # Get just the keys without the -Derivation suffix - those will be a second column\n",
    "        keys_not_derivations = []\n",
    "        for key in list_of_keys:\n",
    "            if '-Derivation' not in key:\n",
    "                keys_not_derivations.append(key)\n",
    "        \n",
    "        # Some parameter values are string types, formatted as np.bytes_, need to convert back\n",
    "        def convert_strings(param_array):\n",
    "            if isinstance(param_array[0], np.bytes_):\n",
    "                return param_array.astype(str)\n",
    "            else:\n",
    "                return param_array\n",
    "\n",
    "        df_keys = pd.DataFrame.from_dict({param: convert_strings(data[param][()]) for param in keys_not_derivations }).T\n",
    "        nCols = df_keys.shape[1] # Required only because if we combine RDs, we get many columns (should fix later)\n",
    "        df_keys.columns = ['Parameter']*nCols\n",
    "        df_drvs = pd.DataFrame.from_dict({param: convert_strings(data[param+'-Derivation'][()]) for param in keys_not_derivations }).T\n",
    "        df_drvs.columns = ['Derivation']*nCols\n",
    "        df = pd.concat([df_keys, df_drvs], axis=1)\n",
    "\n",
    "    # Add units as first col\n",
    "    units_dict = {key:data[key].attrs['units'].astype(str) for key in list_of_keys}\n",
    "    df.insert(loc=0, column='(units)', value=pd.Series(units_dict))\n",
    "    return df\n"
   ]
  },
  {
   "cell_type": "code",
   "execution_count": 35,
   "id": "b35b9616-6c15-443c-9edd-31e876e54ad1",
   "metadata": {
    "jupyter": {
     "source_hidden": true
    }
   },
   "outputs": [],
   "source": [
    "def stellar_types_histogram(data):\n",
    "\n",
    "    bins = np.arange(0, 16 + 1.5) - 0.5\n",
    "    xtix = [0, 1, 2, 3, 4, 5, 6, 7, 8, 9, 10, 11, 12, 13, 14, 15, 16]\n",
    "    \n",
    "    SPs = data[\"BSE_System_Parameters\"]\n",
    "\n",
    "    zams_type_primary = np.array(SPs['Stellar_Type@ZAMS(1)'][()])\n",
    "    zams_type_secundary = np.array(SPs['Stellar_Type@ZAMS(2)'][()])\n",
    "\n",
    "    term_type_primary = np.array(SPs['Stellar_Type(1)'][()])\n",
    "    term_type_secundary = np.array(SPs['Stellar_Type(2)'][()])\n",
    "    \n",
    "    fig, ax = plt.subplots(2,2, figsize=(14,10))\n",
    "    \n",
    "    ax[0][0].set_title(\"Stellar Types at ZAMS\")\n",
    "    \n",
    "    counts00, edges00, bars00 = ax[0][0].hist(zams_type_primary, bins=bins, rwidth=0.8, edgecolor='black', color=\"blue\", label=\"Primary Companions\")\n",
    "    \n",
    "    ax[0][0].set_ylabel(\"Amount\")\n",
    "    ax[0][0].set_xticks(xtix)\n",
    "    ax[0][0].legend()\n",
    "    ax[0][0].set_xlabel(\"Stellar Types\")\n",
    "    ax[0][0].bar_label(bars00)\n",
    "    \n",
    "    counts01, edges01, bars01 = ax[0][1].hist(zams_type_secundary, bins=bins, rwidth=0.8, edgecolor='black', color='red', label=\"Secondary Companions\")\n",
    "    \n",
    "    ax[0][1].set_ylabel(\"Amount\")\n",
    "    ax[0][1].set_xticks(xtix)\n",
    "    ax[0][1].legend()\n",
    "    ax[0][1].set_xlabel(\"Stellar Types\")\n",
    "    ax[0][1].bar_label(bars01)\n",
    "    \n",
    "    ax[1][0].set_title(\"Final Stellar Types\")\n",
    "    \n",
    "    counts10, edges10, bars10 = ax[1][0].hist(term_type_primary, bins=bins, rwidth=0.8, edgecolor='black', color=\"blue\", label=\"Primary Companions\")\n",
    "    \n",
    "    ax[1][0].set_ylabel(\"Amount\")\n",
    "    ax[1][0].set_xticks(xtix)\n",
    "    ax[1][0].legend()\n",
    "    ax[1][0].bar_label(bars10)\n",
    "    \n",
    "    counts11, edges11, bars11 = ax[1][1].hist(term_type_secundary, bins=bins, rwidth=0.8, edgecolor='black', color='red', label=\"Secondary Companions\")\n",
    "    \n",
    "    ax[1][1].set_ylabel(\"Amount\")\n",
    "    ax[1][1].set_xticks(xtix)\n",
    "    ax[1][1].legend()\n",
    "    ax[1][1].bar_label(bars11)\n",
    "    ax[1][1].set_xlabel(\"Stellar Types\")\n",
    "    \n",
    "    plt.show()"
   ]
  },
  {
   "cell_type": "code",
   "execution_count": 36,
   "id": "05da78f2-a36a-474d-bf6b-ca181929d128",
   "metadata": {},
   "outputs": [
    {
     "data": {
      "text/plain": [
       "['BSE_RLOF', 'BSE_Switch_Log', 'BSE_System_Parameters', 'Run_Details']"
      ]
     },
     "execution_count": 36,
     "metadata": {},
     "output_type": "execute_result"
    }
   ],
   "source": [
    "# set path to data file\n",
    "path = '/home/louism/Thesis/data/COMPAS_Output_RLOF/COMPAS_Output.h5'\n",
    "\n",
    "# load the file\n",
    "data = h5.File(path)\n",
    "\n",
    "# inspect the data\n",
    "list(data.keys())"
   ]
  },
  {
   "cell_type": "code",
   "execution_count": 37,
   "id": "cd05190b-f2d1-4a10-be20-504f5aaa70da",
   "metadata": {},
   "outputs": [],
   "source": [
    "RLOF = data['BSE_RLOF']\n",
    "SLs = data['BSE_Switch_Log']\n",
    "SPs = data['BSE_System_Parameters']"
   ]
  },
  {
   "cell_type": "code",
   "execution_count": 60,
   "id": "1a5c668a-4713-4707-8b46-76ac499e3f4f",
   "metadata": {},
   "outputs": [],
   "source": [
    "primary_donor_mask = (SPs['MT_Donor_Hist(1)'][()] != b'NA              ')\n",
    "secondary_donor_mask = (SPs['MT_Donor_Hist(2)'][()]!= b'NA              ')\n",
    "\n",
    "primary_donor_masses = SPs['Mass@ZAMS(1)'][primary_donor_mask]\n",
    "secondary_donor_masses = SPs['Mass@ZAMS(2)'][secondary_donor_mask]"
   ]
  },
  {
   "cell_type": "code",
   "execution_count": 61,
   "id": "ec9d5c2e-129f-471e-907d-7debf7291969",
   "metadata": {
    "jupyter": {
     "source_hidden": true
    }
   },
   "outputs": [],
   "source": [
    "def getTimeStripped(seed, PrimarySecondary):\n",
    "    \n",
    "    sls = printCompasDetails(SLs, seed)\n",
    "    sls_data = np.array(sls.to_numpy())\n",
    "    sls_data = sls_data[:, 1:].astype(float)\n",
    "    primary_mask = sls_data[0][()] == 1\n",
    "    secondary_mask = sls_data[0][()] == 2\n",
    "    stripped_mask1 = sls_data[2][primary_mask] >= 7\n",
    "    stripped_mask2 = sls_data[2][secondary_mask] >= 7\n",
    "    if PrimarySecondary == 1:\n",
    "        time = sls_data[3][primary_mask][stripped_mask1][-1]-sls_data[3][primary_mask][stripped_mask1][0]\n",
    "    if PrimarySecondary == 2:\n",
    "        time = sls_data[3][secondary_mask][stripped_mask2][-1]-sls_data[3][secondary_mask][stripped_mask2][0]\n",
    "    return time"
   ]
  },
  {
   "cell_type": "code",
   "execution_count": 62,
   "id": "4934f493-b8b7-48d8-b8bd-556ba6050820",
   "metadata": {
    "jupyter": {
     "source_hidden": true
    }
   },
   "outputs": [],
   "source": [
    "def MassVsTimeSpentStripped(seeds, PrimarySecondary):\n",
    "\n",
    "    time = []\n",
    "    \n",
    "    for seed in seeds:\n",
    "        time.append(getTimeStripped(seed, PrimarySecondary))   \n",
    "    \n",
    "    return time"
   ]
  },
  {
   "cell_type": "code",
   "execution_count": 63,
   "id": "93aa7f04-0ebb-4080-b614-0255c87a6a24",
   "metadata": {},
   "outputs": [],
   "source": [
    "to_plot1 = MassVsTimeSpentStripped(SPs['SEED'][primary_donor_mask], 1)"
   ]
  },
  {
   "cell_type": "code",
   "execution_count": 64,
   "id": "3ce25254-889c-49c2-b2df-ef7970689e16",
   "metadata": {},
   "outputs": [],
   "source": [
    "to_plot2 = MassVsTimeSpentStripped(SPs['SEED'][secondary_donor_mask], 2)"
   ]
  },
  {
   "cell_type": "code",
   "execution_count": 113,
   "id": "0021cea0-ad0d-4193-a6e4-df78670e6570",
   "metadata": {},
   "outputs": [
    {
     "data": {
      "image/png": "[encoded data removed]",
      "text/plain": [
       "<Figure size 800x600 with 1 Axes>"
      ]
     },
     "metadata": {},
     "output_type": "display_data"
    }
   ],
   "source": [
    "fig, ax = plt.subplots(1,1,figsize=(8,6))\n",
    "\n",
    "plt.scatter(primary_donor_masses, to_plot1, color='red', s=10, marker='o')\n",
    "#plt.scatter(secondary_donor_masses, to_plot2, color='red', s=10, marker='o')\n",
    "\n",
    "plt.grid()\n",
    "plt.yscale('log')\n",
    "plt.xlabel('Initial Mass')\n",
    "plt.ylabel('Time')\n",
    "plt.title('Time spent as stripped star')\n",
    "\n",
    "plt.show()"
   ]
  },
  {
   "cell_type": "code",
   "execution_count": null,
   "id": "d140d121-48ea-40d0-a3e1-ce9df621ed3e",
   "metadata": {},
   "outputs": [],
   "source": []
  },
  {
   "cell_type": "code",
   "execution_count": null,
   "id": "8b886af0-8f84-4743-a5b4-6985ab2dc252",
   "metadata": {},
   "outputs": [],
   "source": []
  },
  {
   "cell_type": "code",
   "execution_count": null,
   "id": "85c0e101-0839-412d-8d79-3a822fbcf7cb",
   "metadata": {},
   "outputs": [],
   "source": []
  },
  {
   "cell_type": "code",
   "execution_count": null,
   "id": "b193a1a4-e381-428a-a568-76e8fbf6a2a0",
   "metadata": {},
   "outputs": [],
   "source": []
  },
  {
   "cell_type": "code",
   "execution_count": null,
   "id": "5035c514-b5ff-4d39-996f-c2d8f6ddaba2",
   "metadata": {},
   "outputs": [],
   "source": []
  },
  {
   "cell_type": "code",
   "execution_count": 86,
   "id": "e5c601ea-687f-4154-a256-57bea243a944",
   "metadata": {
    "collapsed": true,
    "jupyter": {
     "outputs_hidden": true
    }
   },
   "outputs": [
    {
     "data": {
      "text/plain": [
       "['Age(1)',\n",
       " 'Age(2)',\n",
       " 'Ang_Momentum(1)',\n",
       " 'Ang_Momentum(2)',\n",
       " 'Ang_Momentum_Total',\n",
       " 'Beta',\n",
       " 'Dominant_Mass_Loss_Rate(1)',\n",
       " 'Dominant_Mass_Loss_Rate(2)',\n",
       " 'Eccentricity',\n",
       " 'Energy_Total',\n",
       " 'Luminosity(1)',\n",
       " 'Luminosity(2)',\n",
       " 'MT_History',\n",
       " 'Mass(1)',\n",
       " 'Mass(2)',\n",
       " 'Mass@ZAMS(1)',\n",
       " 'Mass@ZAMS(2)',\n",
       " 'MassTransferRateDonor',\n",
       " 'Mass_0(1)',\n",
       " 'Mass_0(2)',\n",
       " 'Mass_CO_Core(1)',\n",
       " 'Mass_CO_Core(2)',\n",
       " 'Mass_Core(1)',\n",
       " 'Mass_Core(2)',\n",
       " 'Mass_Env(1)',\n",
       " 'Mass_Env(2)',\n",
       " 'Mass_He_Core(1)',\n",
       " 'Mass_He_Core(2)',\n",
       " 'Mdot(1)',\n",
       " 'Mdot(2)',\n",
       " 'Metallicity@ZAMS(1)',\n",
       " 'Metallicity@ZAMS(2)',\n",
       " 'Omega(1)',\n",
       " 'Omega(2)',\n",
       " 'Omega_Break(1)',\n",
       " 'Omega_Break(2)',\n",
       " 'Pulsar_Birth_Period(1)',\n",
       " 'Pulsar_Birth_Period(2)',\n",
       " 'Pulsar_Birth_Spin_Down(1)',\n",
       " 'Pulsar_Birth_Spin_Down(2)',\n",
       " 'Pulsar_Mag_Field(1)',\n",
       " 'Pulsar_Mag_Field(2)',\n",
       " 'Pulsar_Spin_Down(1)',\n",
       " 'Pulsar_Spin_Down(2)',\n",
       " 'Pulsar_Spin_Freq(1)',\n",
       " 'Pulsar_Spin_Freq(2)',\n",
       " 'Radius(1)',\n",
       " 'Radius(2)',\n",
       " 'Record_Type',\n",
       " 'RocheLobe(1)',\n",
       " 'RocheLobe(2)',\n",
       " 'SEED',\n",
       " 'SemiMajorAxis',\n",
       " 'Stellar_Type(1)',\n",
       " 'Stellar_Type(2)',\n",
       " 'Stellar_Type@ZAMS(1)',\n",
       " 'Stellar_Type@ZAMS(2)',\n",
       " 'Tau_Dynamical(1)',\n",
       " 'Tau_Dynamical(2)',\n",
       " 'Tau_Radial(1)',\n",
       " 'Tau_Radial(2)',\n",
       " 'Tau_Thermal(1)',\n",
       " 'Tau_Thermal(2)',\n",
       " 'Teff(1)',\n",
       " 'Teff(2)',\n",
       " 'Time',\n",
       " 'Unbound',\n",
       " 'Zeta_Hurley(1)',\n",
       " 'Zeta_Hurley(2)',\n",
       " 'Zeta_Hurley_He(1)',\n",
       " 'Zeta_Hurley_He(2)',\n",
       " 'Zeta_Soberman(1)',\n",
       " 'Zeta_Soberman(2)',\n",
       " 'Zeta_Soberman_He(1)',\n",
       " 'Zeta_Soberman_He(2)',\n",
       " 'dT',\n",
       " 'dmMT(1)',\n",
       " 'dmMT(2)',\n",
       " 'dmWinds(1)',\n",
       " 'dmWinds(2)']"
      ]
     },
     "execution_count": 86,
     "metadata": {},
     "output_type": "execute_result"
    }
   ],
   "source": [
    "# set path to data file\n",
    "detailed_path = '/home/louism/Thesis/data/COMPAS_Output_RLOF/Detailed_Output/BSE_Detailed_Output_1.h5'\n",
    "\n",
    "# load the file\n",
    "detailed_data = h5.File(detailed_path)\n",
    "\n",
    "# inspect the data\n",
    "list(detailed_data.keys())"
   ]
  },
  {
   "cell_type": "code",
   "execution_count": 110,
   "id": "e62c3519-3041-4d19-8742-32cf098ba72a",
   "metadata": {},
   "outputs": [
    {
     "data": {
      "image/png": "[encoded data removed]",
      "text/plain": [
       "<Figure size 640x480 with 1 Axes>"
      ]
     },
     "metadata": {},
     "output_type": "display_data"
    }
   ],
   "source": [
    "plt.scatter(detailed_data['Time'][()], detailed_data['Stellar_Type(1)'][()], s=1)\n",
    "plt.xscale('log')"
   ]
  },
  {
   "cell_type": "code",
   "execution_count": null,
   "id": "760a0452-2ec0-4e50-adb2-7db0eda6d878",
   "metadata": {},
   "outputs": [],
   "source": []
  },
  {
   "cell_type": "code",
   "execution_count": null,
   "id": "c133b06b-847d-4278-9ac4-67bedeacb85f",
   "metadata": {},
   "outputs": [],
   "source": []
  }
 ],
 "metadata": {
  "kernelspec": {
   "display_name": "Python 3 (ipykernel)",
   "language": "python",
   "name": "python3"
  },
  "language_info": {
   "codemirror_mode": {
    "name": "ipython",
    "version": 3
   },
   "file_extension": ".py",
   "mimetype": "text/x-python",
   "name": "python",
   "nbconvert_exporter": "python",
   "pygments_lexer": "ipython3",
   "version": "3.12.3"
  }
 },
 "nbformat": 4,
 "nbformat_minor": 5
}
